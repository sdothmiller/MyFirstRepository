{
 "cells": [
  {
   "cell_type": "markdown",
   "id": "a952c654",
   "metadata": {},
   "source": [
    "# Data Science Tools and Ecosystem"
   ]
  },
  {
   "cell_type": "markdown",
   "id": "dc203b12",
   "metadata": {},
   "source": [
    "**In this notebook, Data Science Tools and Ecosystem are summarized.**"
   ]
  },
  {
   "cell_type": "markdown",
   "id": "74416415",
   "metadata": {},
   "source": [
    "**Objectives:**\n",
    "* Add comments to code cells\n",
    "* Create markdown cells\n",
    "* Add ordered and unordered lists to the markdown cells\n",
    "* Format content of markdown cells with heaading styles\n"
   ]
  },
  {
   "cell_type": "markdown",
   "id": "d744988a",
   "metadata": {},
   "source": [
    "Some of the popular languages that Data Scientists use are:\n",
    "    \n",
    "1. Python\n",
    "2. R\n",
    "3. Scala\n",
    "4. Julia\n",
    "5. Java"
   ]
  },
  {
   "cell_type": "markdown",
   "id": "7d7208fb",
   "metadata": {},
   "source": [
    "Some of the commonly used libraries used by Data Scientists include:\n",
    "    \n",
    "1. TensorFlow\n",
    "2. Matplotlib\n",
    "3. Numpy\n",
    "4. Pandas"
   ]
  },
  {
   "cell_type": "markdown",
   "id": "c783890c",
   "metadata": {},
   "source": [
    "|Data Science Tools|\n",
    "|------------------|\n",
    "|Jupyter Notebooks |\n",
    "|Apache Jeppelin   |\n",
    "|R Studio          |"
   ]
  },
  {
   "cell_type": "markdown",
   "id": "c9341492",
   "metadata": {},
   "source": [
    "### Below are a few examples of evaluating arithmetic expressions in Python"
   ]
  },
  {
   "cell_type": "code",
   "execution_count": 8,
   "id": "478929c2",
   "metadata": {},
   "outputs": [
    {
     "data": {
      "text/plain": [
       "17"
      ]
     },
     "execution_count": 8,
     "metadata": {},
     "output_type": "execute_result"
    }
   ],
   "source": [
    "#This a simple arithmetic expression to mutiply then add integers\n",
    "(3*4)+5\n"
   ]
  },
  {
   "cell_type": "code",
   "execution_count": 1,
   "id": "cddc2bfa",
   "metadata": {},
   "outputs": [
    {
     "data": {
      "text/plain": [
       "3"
      ]
     },
     "execution_count": 1,
     "metadata": {},
     "output_type": "execute_result"
    }
   ],
   "source": [
    "200//60"
   ]
  },
  {
   "cell_type": "markdown",
   "id": "1ae4b014",
   "metadata": {},
   "source": [
    "## Author"
   ]
  },
  {
   "cell_type": "markdown",
   "id": "8159d697",
   "metadata": {},
   "source": [
    "Habib Miller"
   ]
  }
 ],
 "metadata": {
  "kernelspec": {
   "display_name": "Python 3 (ipykernel)",
   "language": "python",
   "name": "python3"
  },
  "language_info": {
   "codemirror_mode": {
    "name": "ipython",
    "version": 3
   },
   "file_extension": ".py",
   "mimetype": "text/x-python",
   "name": "python",
   "nbconvert_exporter": "python",
   "pygments_lexer": "ipython3",
   "version": "3.11.4"
  }
 },
 "nbformat": 4,
 "nbformat_minor": 5
}
